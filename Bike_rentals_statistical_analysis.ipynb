{
 "cells": [
  {
   "cell_type": "code",
   "execution_count": 1,
   "metadata": {},
   "outputs": [],
   "source": [
    "import pandas as pd\n",
    "import numpy as np\n",
    "import seaborn as sns\n",
    "import matplotlib.pyplot as plt\n",
    "%matplotlib inline \n",
    "import statsmodels.api as sm\n",
    "from statsmodels.formula.api import ols\n",
    "from scipy import stats\n",
    "import statistics as stat\n",
    "import warnings\n",
    "warnings.filterwarnings('ignore')\n",
    "pd.options.display.max_columns = 999"
   ]
  },
  {
   "cell_type": "code",
   "execution_count": 2,
   "metadata": {},
   "outputs": [
    {
     "name": "stdout",
     "output_type": "stream",
     "text": [
      "<class 'pandas.core.frame.DataFrame'>\n",
      "Int64Index: 3258796 entries, 0 to 3818003\n",
      "Data columns (total 19 columns):\n",
      " #   Column             Dtype         \n",
      "---  ------             -----         \n",
      " 0   trip_id            int64         \n",
      " 1   start_time         datetime64[ns]\n",
      " 2   month              object        \n",
      " 3   month_numb         int64         \n",
      " 4   day_of_week        object        \n",
      " 5   hour               int64         \n",
      " 6   quarter            int64         \n",
      " 7   Season             object        \n",
      " 8   end_time           datetime64[ns]\n",
      " 9   bikeid             int64         \n",
      " 10  tripduration       int64         \n",
      " 11  from_station_id    int64         \n",
      " 12  from_station_name  object        \n",
      " 13  to_station_id      int64         \n",
      " 14  to_station_name    object        \n",
      " 15  usertype           object        \n",
      " 16  gender             object        \n",
      " 17  birthyear          Int64         \n",
      " 18  birthyear_bins     category      \n",
      "dtypes: Int64(1), category(1), datetime64[ns](2), int64(8), object(7)\n",
      "memory usage: 478.6+ MB\n"
     ]
    }
   ],
   "source": [
    "data = pd.read_pickle('orig_data.pickle')\n",
    "data.info()"
   ]
  },
  {
   "cell_type": "code",
   "execution_count": 3,
   "metadata": {},
   "outputs": [
    {
     "data": {
      "text/html": [
       "<div>\n",
       "<style scoped>\n",
       "    .dataframe tbody tr th:only-of-type {\n",
       "        vertical-align: middle;\n",
       "    }\n",
       "\n",
       "    .dataframe tbody tr th {\n",
       "        vertical-align: top;\n",
       "    }\n",
       "\n",
       "    .dataframe thead th {\n",
       "        text-align: right;\n",
       "    }\n",
       "</style>\n",
       "<table border=\"1\" class=\"dataframe\">\n",
       "  <thead>\n",
       "    <tr style=\"text-align: right;\">\n",
       "      <th></th>\n",
       "      <th>trip_id</th>\n",
       "      <th>start_time</th>\n",
       "      <th>month</th>\n",
       "      <th>month_numb</th>\n",
       "      <th>day_of_week</th>\n",
       "      <th>hour</th>\n",
       "      <th>quarter</th>\n",
       "      <th>Season</th>\n",
       "      <th>end_time</th>\n",
       "      <th>bikeid</th>\n",
       "      <th>tripduration</th>\n",
       "      <th>from_station_id</th>\n",
       "      <th>from_station_name</th>\n",
       "      <th>to_station_id</th>\n",
       "      <th>to_station_name</th>\n",
       "      <th>usertype</th>\n",
       "      <th>gender</th>\n",
       "      <th>birthyear</th>\n",
       "      <th>birthyear_bins</th>\n",
       "    </tr>\n",
       "  </thead>\n",
       "  <tbody>\n",
       "    <tr>\n",
       "      <th>0</th>\n",
       "      <td>21742443</td>\n",
       "      <td>2019-01-01 00:04:37</td>\n",
       "      <td>January</td>\n",
       "      <td>1</td>\n",
       "      <td>Tuesday</td>\n",
       "      <td>0</td>\n",
       "      <td>1</td>\n",
       "      <td>Winter</td>\n",
       "      <td>2019-01-01 00:11:07</td>\n",
       "      <td>2167</td>\n",
       "      <td>39</td>\n",
       "      <td>199</td>\n",
       "      <td>Wabash Ave &amp; Grand Ave</td>\n",
       "      <td>84</td>\n",
       "      <td>Milwaukee Ave &amp; Grand Ave</td>\n",
       "      <td>Subscriber</td>\n",
       "      <td>Male</td>\n",
       "      <td>1989</td>\n",
       "      <td>young</td>\n",
       "    </tr>\n",
       "    <tr>\n",
       "      <th>1</th>\n",
       "      <td>21742444</td>\n",
       "      <td>2019-01-01 00:08:13</td>\n",
       "      <td>January</td>\n",
       "      <td>1</td>\n",
       "      <td>Tuesday</td>\n",
       "      <td>0</td>\n",
       "      <td>1</td>\n",
       "      <td>Winter</td>\n",
       "      <td>2019-01-01 00:15:34</td>\n",
       "      <td>4386</td>\n",
       "      <td>441</td>\n",
       "      <td>44</td>\n",
       "      <td>State St &amp; Randolph St</td>\n",
       "      <td>624</td>\n",
       "      <td>Dearborn St &amp; Van Buren St (*)</td>\n",
       "      <td>Subscriber</td>\n",
       "      <td>Female</td>\n",
       "      <td>1990</td>\n",
       "      <td>young</td>\n",
       "    </tr>\n",
       "  </tbody>\n",
       "</table>\n",
       "</div>"
      ],
      "text/plain": [
       "    trip_id          start_time    month  month_numb day_of_week  hour  \\\n",
       "0  21742443 2019-01-01 00:04:37  January           1     Tuesday     0   \n",
       "1  21742444 2019-01-01 00:08:13  January           1     Tuesday     0   \n",
       "\n",
       "   quarter  Season            end_time  bikeid  tripduration  from_station_id  \\\n",
       "0        1  Winter 2019-01-01 00:11:07    2167            39              199   \n",
       "1        1  Winter 2019-01-01 00:15:34    4386           441               44   \n",
       "\n",
       "        from_station_name  to_station_id                 to_station_name  \\\n",
       "0  Wabash Ave & Grand Ave             84       Milwaukee Ave & Grand Ave   \n",
       "1  State St & Randolph St            624  Dearborn St & Van Buren St (*)   \n",
       "\n",
       "     usertype  gender  birthyear birthyear_bins  \n",
       "0  Subscriber    Male       1989          young  \n",
       "1  Subscriber  Female       1990          young  "
      ]
     },
     "execution_count": 3,
     "metadata": {},
     "output_type": "execute_result"
    }
   ],
   "source": [
    "data.head(2)"
   ]
  },
  {
   "cell_type": "code",
   "execution_count": 4,
   "metadata": {},
   "outputs": [
    {
     "data": {
      "text/html": [
       "<div>\n",
       "<style scoped>\n",
       "    .dataframe tbody tr th:only-of-type {\n",
       "        vertical-align: middle;\n",
       "    }\n",
       "\n",
       "    .dataframe tbody tr th {\n",
       "        vertical-align: top;\n",
       "    }\n",
       "\n",
       "    .dataframe thead th {\n",
       "        text-align: right;\n",
       "    }\n",
       "</style>\n",
       "<table border=\"1\" class=\"dataframe\">\n",
       "  <thead>\n",
       "    <tr style=\"text-align: right;\">\n",
       "      <th></th>\n",
       "      <th>trip_id</th>\n",
       "      <th>start_time</th>\n",
       "      <th>month</th>\n",
       "      <th>month_numb</th>\n",
       "      <th>day_of_week</th>\n",
       "      <th>hour</th>\n",
       "      <th>quarter</th>\n",
       "      <th>Season</th>\n",
       "      <th>end_time</th>\n",
       "      <th>bikeid</th>\n",
       "      <th>tripduration</th>\n",
       "      <th>from_station_id</th>\n",
       "      <th>from_station_name</th>\n",
       "      <th>to_station_id</th>\n",
       "      <th>to_station_name</th>\n",
       "      <th>usertype</th>\n",
       "      <th>gender</th>\n",
       "      <th>birthyear</th>\n",
       "      <th>birthyear_bins</th>\n",
       "      <th>start_date</th>\n",
       "    </tr>\n",
       "  </thead>\n",
       "  <tbody>\n",
       "    <tr>\n",
       "      <th>0</th>\n",
       "      <td>21742443</td>\n",
       "      <td>2019-01-01 00:04:37</td>\n",
       "      <td>January</td>\n",
       "      <td>1</td>\n",
       "      <td>Tuesday</td>\n",
       "      <td>0</td>\n",
       "      <td>1</td>\n",
       "      <td>Winter</td>\n",
       "      <td>2019-01-01 00:11:07</td>\n",
       "      <td>2167</td>\n",
       "      <td>39</td>\n",
       "      <td>199</td>\n",
       "      <td>Wabash Ave &amp; Grand Ave</td>\n",
       "      <td>84</td>\n",
       "      <td>Milwaukee Ave &amp; Grand Ave</td>\n",
       "      <td>Subscriber</td>\n",
       "      <td>Male</td>\n",
       "      <td>1989</td>\n",
       "      <td>young</td>\n",
       "      <td>2019-01-01</td>\n",
       "    </tr>\n",
       "    <tr>\n",
       "      <th>1</th>\n",
       "      <td>21742444</td>\n",
       "      <td>2019-01-01 00:08:13</td>\n",
       "      <td>January</td>\n",
       "      <td>1</td>\n",
       "      <td>Tuesday</td>\n",
       "      <td>0</td>\n",
       "      <td>1</td>\n",
       "      <td>Winter</td>\n",
       "      <td>2019-01-01 00:15:34</td>\n",
       "      <td>4386</td>\n",
       "      <td>441</td>\n",
       "      <td>44</td>\n",
       "      <td>State St &amp; Randolph St</td>\n",
       "      <td>624</td>\n",
       "      <td>Dearborn St &amp; Van Buren St (*)</td>\n",
       "      <td>Subscriber</td>\n",
       "      <td>Female</td>\n",
       "      <td>1990</td>\n",
       "      <td>young</td>\n",
       "      <td>2019-01-01</td>\n",
       "    </tr>\n",
       "    <tr>\n",
       "      <th>2</th>\n",
       "      <td>21742445</td>\n",
       "      <td>2019-01-01 00:13:23</td>\n",
       "      <td>January</td>\n",
       "      <td>1</td>\n",
       "      <td>Tuesday</td>\n",
       "      <td>0</td>\n",
       "      <td>1</td>\n",
       "      <td>Winter</td>\n",
       "      <td>2019-01-01 00:27:12</td>\n",
       "      <td>1524</td>\n",
       "      <td>829</td>\n",
       "      <td>15</td>\n",
       "      <td>Racine Ave &amp; 18th St</td>\n",
       "      <td>644</td>\n",
       "      <td>Western Ave &amp; Fillmore St (*)</td>\n",
       "      <td>Subscriber</td>\n",
       "      <td>Female</td>\n",
       "      <td>1994</td>\n",
       "      <td>very_young</td>\n",
       "      <td>2019-01-01</td>\n",
       "    </tr>\n",
       "    <tr>\n",
       "      <th>3</th>\n",
       "      <td>21742446</td>\n",
       "      <td>2019-01-01 00:13:45</td>\n",
       "      <td>January</td>\n",
       "      <td>1</td>\n",
       "      <td>Tuesday</td>\n",
       "      <td>0</td>\n",
       "      <td>1</td>\n",
       "      <td>Winter</td>\n",
       "      <td>2019-01-01 00:43:28</td>\n",
       "      <td>252</td>\n",
       "      <td>1783</td>\n",
       "      <td>123</td>\n",
       "      <td>California Ave &amp; Milwaukee Ave</td>\n",
       "      <td>176</td>\n",
       "      <td>Clark St &amp; Elm St</td>\n",
       "      <td>Subscriber</td>\n",
       "      <td>Male</td>\n",
       "      <td>1993</td>\n",
       "      <td>very_young</td>\n",
       "      <td>2019-01-01</td>\n",
       "    </tr>\n",
       "    <tr>\n",
       "      <th>4</th>\n",
       "      <td>21742447</td>\n",
       "      <td>2019-01-01 00:14:52</td>\n",
       "      <td>January</td>\n",
       "      <td>1</td>\n",
       "      <td>Tuesday</td>\n",
       "      <td>0</td>\n",
       "      <td>1</td>\n",
       "      <td>Winter</td>\n",
       "      <td>2019-01-01 00:20:56</td>\n",
       "      <td>1170</td>\n",
       "      <td>364</td>\n",
       "      <td>173</td>\n",
       "      <td>Mies van der Rohe Way &amp; Chicago Ave</td>\n",
       "      <td>35</td>\n",
       "      <td>Streeter Dr &amp; Grand Ave</td>\n",
       "      <td>Subscriber</td>\n",
       "      <td>Male</td>\n",
       "      <td>1994</td>\n",
       "      <td>very_young</td>\n",
       "      <td>2019-01-01</td>\n",
       "    </tr>\n",
       "  </tbody>\n",
       "</table>\n",
       "</div>"
      ],
      "text/plain": [
       "    trip_id          start_time    month  month_numb day_of_week  hour  \\\n",
       "0  21742443 2019-01-01 00:04:37  January           1     Tuesday     0   \n",
       "1  21742444 2019-01-01 00:08:13  January           1     Tuesday     0   \n",
       "2  21742445 2019-01-01 00:13:23  January           1     Tuesday     0   \n",
       "3  21742446 2019-01-01 00:13:45  January           1     Tuesday     0   \n",
       "4  21742447 2019-01-01 00:14:52  January           1     Tuesday     0   \n",
       "\n",
       "   quarter  Season            end_time  bikeid  tripduration  from_station_id  \\\n",
       "0        1  Winter 2019-01-01 00:11:07    2167            39              199   \n",
       "1        1  Winter 2019-01-01 00:15:34    4386           441               44   \n",
       "2        1  Winter 2019-01-01 00:27:12    1524           829               15   \n",
       "3        1  Winter 2019-01-01 00:43:28     252          1783              123   \n",
       "4        1  Winter 2019-01-01 00:20:56    1170           364              173   \n",
       "\n",
       "                     from_station_name  to_station_id  \\\n",
       "0               Wabash Ave & Grand Ave             84   \n",
       "1               State St & Randolph St            624   \n",
       "2                 Racine Ave & 18th St            644   \n",
       "3       California Ave & Milwaukee Ave            176   \n",
       "4  Mies van der Rohe Way & Chicago Ave             35   \n",
       "\n",
       "                  to_station_name    usertype  gender  birthyear  \\\n",
       "0       Milwaukee Ave & Grand Ave  Subscriber    Male       1989   \n",
       "1  Dearborn St & Van Buren St (*)  Subscriber  Female       1990   \n",
       "2   Western Ave & Fillmore St (*)  Subscriber  Female       1994   \n",
       "3               Clark St & Elm St  Subscriber    Male       1993   \n",
       "4         Streeter Dr & Grand Ave  Subscriber    Male       1994   \n",
       "\n",
       "  birthyear_bins  start_date  \n",
       "0          young  2019-01-01  \n",
       "1          young  2019-01-01  \n",
       "2     very_young  2019-01-01  \n",
       "3     very_young  2019-01-01  \n",
       "4     very_young  2019-01-01  "
      ]
     },
     "execution_count": 4,
     "metadata": {},
     "output_type": "execute_result"
    }
   ],
   "source": [
    "data['start_date'] = pd.to_datetime(data['start_time']).dt.date\n",
    "data.head()"
   ]
  },
  {
   "cell_type": "code",
   "execution_count": 5,
   "metadata": {},
   "outputs": [
    {
     "data": {
      "text/plain": [
       "trip_id              0\n",
       "start_time           0\n",
       "month                0\n",
       "month_numb           0\n",
       "day_of_week          0\n",
       "hour                 0\n",
       "quarter              0\n",
       "Season               0\n",
       "end_time             0\n",
       "bikeid               0\n",
       "tripduration         0\n",
       "from_station_id      0\n",
       "from_station_name    0\n",
       "to_station_id        0\n",
       "to_station_name      0\n",
       "usertype             0\n",
       "gender               0\n",
       "birthyear            0\n",
       "birthyear_bins       0\n",
       "start_date           0\n",
       "dtype: int64"
      ]
     },
     "execution_count": 5,
     "metadata": {},
     "output_type": "execute_result"
    }
   ],
   "source": [
    "data.isnull().sum()"
   ]
  },
  {
   "cell_type": "markdown",
   "metadata": {},
   "source": [
    "## Descriptive statistics"
   ]
  },
  {
   "cell_type": "markdown",
   "metadata": {},
   "source": [
    "### 1. For Season"
   ]
  },
  {
   "cell_type": "code",
   "execution_count": null,
   "metadata": {},
   "outputs": [],
   "source": [
    "data['Season'].value_counts()"
   ]
  },
  {
   "cell_type": "code",
   "execution_count": 7,
   "metadata": {},
   "outputs": [
    {
     "data": {
      "image/png": "[encoded data removed]",
      "text/plain": [
       "<Figure size 432x288 with 1 Axes>"
      ]
     },
     "metadata": {},
     "output_type": "display_data"
    }
   ],
   "source": [
    "# Pie chart\n",
    "labels = ['Autumn', 'Spring', 'Summer', 'Winter']\n",
    "sizes = [910405, 689595, 1322515, 336281]\n",
    "# only \"explode\" the 2nd slice (i.e. 'Hogs')\n",
    "explode = (0, 0, 0, 0.1)\n",
    "#add colors\n",
    "colors = ['#ff9999','#66b3ff','#99ff99','#ffcc99']\n",
    "fig1, ax1 = plt.subplots()\n",
    "ax1.pie(sizes, explode=explode, labels=labels, colors=colors, autopct='%1.0f%%',\n",
    "        shadow=True, startangle=90)\n",
    "# Equal aspect ratio ensures that pie is drawn as a circle\n",
    "ax1.axis('equal')\n",
    "plt.tight_layout()\n",
    "plt.show()"
   ]
  },
  {
   "cell_type": "markdown",
   "metadata": {},
   "source": [
    "## For Days of the week"
   ]
  },
  {
   "cell_type": "code",
   "execution_count": 8,
   "metadata": {},
   "outputs": [
    {
     "data": {
      "text/plain": [
       "Tuesday      529641\n",
       "Wednesday    527461\n",
       "Thursday     524395\n",
       "Friday       500570\n",
       "Monday       495981\n",
       "Saturday     363238\n",
       "Sunday       317510\n",
       "Name: day_of_week, dtype: int64"
      ]
     },
     "execution_count": 8,
     "metadata": {},
     "output_type": "execute_result"
    }
   ],
   "source": [
    "data['day_of_week'].value_counts()"
   ]
  },
  {
   "cell_type": "code",
   "execution_count": 40,
   "metadata": {},
   "outputs": [
    {
     "data": {
      "image/png": "[encoded data removed]",
      "text/plain": [
       "<Figure size 432x288 with 1 Axes>"
      ]
     },
     "metadata": {},
     "output_type": "display_data"
    }
   ],
   "source": [
    "# Pie chart\n",
    "labels = ['Monday', 'Tuesday', 'Wednesday', 'Thursday', 'Friday', 'Saturday', 'Sunday']\n",
    "sizes = [495981, 529641, 527461, 524395, 500570, 363238, 317510]\n",
    "# only \"explode\" the 2nd slice (i.e. 'Hogs')\n",
    "explode = (0, 0, 0, 0, 0, 0.1, 0.16)\n",
    "#add colors\n",
    "colors = ['#ff9999','#66b3ff','#99ff99','#ffcc99','#00ffff', '#ffd700', '#caff70']\n",
    "fig1, ax1 = plt.subplots()\n",
    "ax1.pie(sizes, explode=explode, labels=labels, colors=colors, autopct='%1.0f%%',\n",
    "        shadow=True, startangle=90)\n",
    "# Equal aspect ratio ensures that pie is drawn as a circle\n",
    "ax1.axis('equal')\n",
    "plt.tight_layout()\n",
    "plt.show()"
   ]
  },
  {
   "cell_type": "code",
   "execution_count": 11,
   "metadata": {},
   "outputs": [
    {
     "data": {
      "image/png": "[encoded data removed]",
      "text/plain": [
       "<Figure size 432x288 with 1 Axes>"
      ]
     },
     "metadata": {},
     "output_type": "display_data"
    }
   ],
   "source": [
    "dat = data.groupby(['Season']).size().reset_index(name=\"Count\")\n",
    "\n",
    "# Pie chart\n",
    "labels = dat['Season'].tolist()  #['Autumn', 'Spring', 'Summer', 'Winter']\n",
    "sizes = dat['Count'].tolist()  #[910405, 689595, 1322515, 336281]\n",
    "# only \"explode\" the 2nd slice (i.e. 'Hogs')\n",
    "explode = (0, 0, 0, 0.1)\n",
    "#add colors\n",
    "colors = ['#ff9999','#66b3ff','#99ff99','#ffcc99']\n",
    "fig1, ax1 = plt.subplots()\n",
    "ax1.pie(sizes, explode=explode, labels=labels, colors=colors, autopct='%1.0f%%',\n",
    "        shadow=True, startangle=90)\n",
    "# Equal aspect ratio ensures that pie is drawn as a circle\n",
    "ax1.axis('equal')\n",
    "plt.tight_layout()\n",
    "plt.show()"
   ]
  },
  {
   "cell_type": "code",
   "execution_count": 17,
   "metadata": {},
   "outputs": [
    {
     "data": {
      "text/html": [
       "<div>\n",
       "<style scoped>\n",
       "    .dataframe tbody tr th:only-of-type {\n",
       "        vertical-align: middle;\n",
       "    }\n",
       "\n",
       "    .dataframe tbody tr th {\n",
       "        vertical-align: top;\n",
       "    }\n",
       "\n",
       "    .dataframe thead th {\n",
       "        text-align: right;\n",
       "    }\n",
       "</style>\n",
       "<table border=\"1\" class=\"dataframe\">\n",
       "  <thead>\n",
       "    <tr style=\"text-align: right;\">\n",
       "      <th></th>\n",
       "      <th>trip_id</th>\n",
       "      <th>start_time</th>\n",
       "      <th>month</th>\n",
       "      <th>month_numb</th>\n",
       "      <th>day_of_week</th>\n",
       "      <th>hour</th>\n",
       "      <th>quarter</th>\n",
       "      <th>Season</th>\n",
       "      <th>end_time</th>\n",
       "      <th>bikeid</th>\n",
       "      <th>tripduration</th>\n",
       "      <th>from_station_id</th>\n",
       "      <th>from_station_name</th>\n",
       "      <th>to_station_id</th>\n",
       "      <th>to_station_name</th>\n",
       "      <th>usertype</th>\n",
       "      <th>gender</th>\n",
       "      <th>birthyear</th>\n",
       "      <th>birthyear_bins</th>\n",
       "      <th>start_date</th>\n",
       "    </tr>\n",
       "  </thead>\n",
       "  <tbody>\n",
       "    <tr>\n",
       "      <th>1</th>\n",
       "      <td>21742444</td>\n",
       "      <td>2019-01-01 00:08:13</td>\n",
       "      <td>January</td>\n",
       "      <td>1</td>\n",
       "      <td>Tuesday</td>\n",
       "      <td>0</td>\n",
       "      <td>1</td>\n",
       "      <td>Winter</td>\n",
       "      <td>2019-01-01 00:15:34</td>\n",
       "      <td>4386</td>\n",
       "      <td>441</td>\n",
       "      <td>44</td>\n",
       "      <td>State St &amp; Randolph St</td>\n",
       "      <td>624</td>\n",
       "      <td>Dearborn St &amp; Van Buren St (*)</td>\n",
       "      <td>Subscriber</td>\n",
       "      <td>Female</td>\n",
       "      <td>1990</td>\n",
       "      <td>young</td>\n",
       "      <td>2019-01-01</td>\n",
       "    </tr>\n",
       "    <tr>\n",
       "      <th>2</th>\n",
       "      <td>21742445</td>\n",
       "      <td>2019-01-01 00:13:23</td>\n",
       "      <td>January</td>\n",
       "      <td>1</td>\n",
       "      <td>Tuesday</td>\n",
       "      <td>0</td>\n",
       "      <td>1</td>\n",
       "      <td>Winter</td>\n",
       "      <td>2019-01-01 00:27:12</td>\n",
       "      <td>1524</td>\n",
       "      <td>829</td>\n",
       "      <td>15</td>\n",
       "      <td>Racine Ave &amp; 18th St</td>\n",
       "      <td>644</td>\n",
       "      <td>Western Ave &amp; Fillmore St (*)</td>\n",
       "      <td>Subscriber</td>\n",
       "      <td>Female</td>\n",
       "      <td>1994</td>\n",
       "      <td>very_young</td>\n",
       "      <td>2019-01-01</td>\n",
       "    </tr>\n",
       "    <tr>\n",
       "      <th>5</th>\n",
       "      <td>21742448</td>\n",
       "      <td>2019-01-01 00:15:33</td>\n",
       "      <td>January</td>\n",
       "      <td>1</td>\n",
       "      <td>Tuesday</td>\n",
       "      <td>0</td>\n",
       "      <td>1</td>\n",
       "      <td>Winter</td>\n",
       "      <td>2019-01-01 00:19:09</td>\n",
       "      <td>2437</td>\n",
       "      <td>216</td>\n",
       "      <td>98</td>\n",
       "      <td>LaSalle St &amp; Washington St</td>\n",
       "      <td>49</td>\n",
       "      <td>Dearborn St &amp; Monroe St</td>\n",
       "      <td>Subscriber</td>\n",
       "      <td>Female</td>\n",
       "      <td>1983</td>\n",
       "      <td>young</td>\n",
       "      <td>2019-01-01</td>\n",
       "    </tr>\n",
       "    <tr>\n",
       "      <th>11</th>\n",
       "      <td>21742454</td>\n",
       "      <td>2019-01-01 00:21:52</td>\n",
       "      <td>January</td>\n",
       "      <td>1</td>\n",
       "      <td>Tuesday</td>\n",
       "      <td>0</td>\n",
       "      <td>1</td>\n",
       "      <td>Winter</td>\n",
       "      <td>2019-01-01 00:32:45</td>\n",
       "      <td>6300</td>\n",
       "      <td>653</td>\n",
       "      <td>204</td>\n",
       "      <td>Prairie Ave &amp; Garfield Blvd</td>\n",
       "      <td>420</td>\n",
       "      <td>Ellis Ave &amp; 55th St</td>\n",
       "      <td>Subscriber</td>\n",
       "      <td>Female</td>\n",
       "      <td>1994</td>\n",
       "      <td>very_young</td>\n",
       "      <td>2019-01-01</td>\n",
       "    </tr>\n",
       "    <tr>\n",
       "      <th>13</th>\n",
       "      <td>21742456</td>\n",
       "      <td>2019-01-01 00:23:43</td>\n",
       "      <td>January</td>\n",
       "      <td>1</td>\n",
       "      <td>Tuesday</td>\n",
       "      <td>0</td>\n",
       "      <td>1</td>\n",
       "      <td>Winter</td>\n",
       "      <td>2019-01-01 00:33:05</td>\n",
       "      <td>84</td>\n",
       "      <td>562</td>\n",
       "      <td>90</td>\n",
       "      <td>Millennium Park</td>\n",
       "      <td>255</td>\n",
       "      <td>Indiana Ave &amp; Roosevelt Rd</td>\n",
       "      <td>Customer</td>\n",
       "      <td>Female</td>\n",
       "      <td>1990</td>\n",
       "      <td>young</td>\n",
       "      <td>2019-01-01</td>\n",
       "    </tr>\n",
       "  </tbody>\n",
       "</table>\n",
       "</div>"
      ],
      "text/plain": [
       "     trip_id          start_time    month  month_numb day_of_week  hour  \\\n",
       "1   21742444 2019-01-01 00:08:13  January           1     Tuesday     0   \n",
       "2   21742445 2019-01-01 00:13:23  January           1     Tuesday     0   \n",
       "5   21742448 2019-01-01 00:15:33  January           1     Tuesday     0   \n",
       "11  21742454 2019-01-01 00:21:52  January           1     Tuesday     0   \n",
       "13  21742456 2019-01-01 00:23:43  January           1     Tuesday     0   \n",
       "\n",
       "    quarter  Season            end_time  bikeid  tripduration  \\\n",
       "1         1  Winter 2019-01-01 00:15:34    4386           441   \n",
       "2         1  Winter 2019-01-01 00:27:12    1524           829   \n",
       "5         1  Winter 2019-01-01 00:19:09    2437           216   \n",
       "11        1  Winter 2019-01-01 00:32:45    6300           653   \n",
       "13        1  Winter 2019-01-01 00:33:05      84           562   \n",
       "\n",
       "    from_station_id            from_station_name  to_station_id  \\\n",
       "1                44       State St & Randolph St            624   \n",
       "2                15         Racine Ave & 18th St            644   \n",
       "5                98   LaSalle St & Washington St             49   \n",
       "11              204  Prairie Ave & Garfield Blvd            420   \n",
       "13               90              Millennium Park            255   \n",
       "\n",
       "                   to_station_name    usertype  gender  birthyear  \\\n",
       "1   Dearborn St & Van Buren St (*)  Subscriber  Female       1990   \n",
       "2    Western Ave & Fillmore St (*)  Subscriber  Female       1994   \n",
       "5          Dearborn St & Monroe St  Subscriber  Female       1983   \n",
       "11             Ellis Ave & 55th St  Subscriber  Female       1994   \n",
       "13      Indiana Ave & Roosevelt Rd    Customer  Female       1990   \n",
       "\n",
       "   birthyear_bins  start_date  \n",
       "1           young  2019-01-01  \n",
       "2      very_young  2019-01-01  \n",
       "5           young  2019-01-01  \n",
       "11     very_young  2019-01-01  \n",
       "13          young  2019-01-01  "
      ]
     },
     "execution_count": 17,
     "metadata": {},
     "output_type": "execute_result"
    }
   ],
   "source": [
    "dataF = data[data[\"gender\"] == \"Female\"]\n",
    "dataF.head()"
   ]
  },
  {
   "cell_type": "code",
   "execution_count": 18,
   "metadata": {},
   "outputs": [
    {
     "data": {
      "image/png": "[encoded data removed]",
      "text/plain": [
       "<Figure size 432x288 with 1 Axes>"
      ]
     },
     "metadata": {},
     "output_type": "display_data"
    }
   ],
   "source": [
    "#Filter by Gender\n",
    "dataF = data[data[\"gender\"] == \"Male\"]\n",
    "\n",
    "dat = dataF.groupby(['day_of_week']).size().reset_index(name=\"Count\")\n",
    "\n",
    "# Pie chart\n",
    "labels = dat['day_of_week'].tolist()  #['Autumn', 'Spring', 'Summer', 'Winter']\n",
    "sizes = dat['Count'].tolist()  #[910405, 689595, 1322515, 336281]\n",
    "# only \"explode\" the 2nd slice (i.e. 'Hogs')\n",
    "explode = (0, 0, 0, 0, 0, 0, 0)\n",
    "#add colors\n",
    "colors = ['#ff9999','#66b3ff','#99ff99','#ffcc99']\n",
    "fig1, ax1 = plt.subplots()\n",
    "ax1.pie(sizes, explode=explode, labels=labels, colors=colors, autopct='%1.0f%%',\n",
    "        shadow=True, startangle=90)\n",
    "# Equal aspect ratio ensures that pie is drawn as a circle\n",
    "ax1.axis('equal')\n",
    "plt.tight_layout()\n",
    "plt.show()"
   ]
  },
  {
   "cell_type": "code",
   "execution_count": 9,
   "metadata": {},
   "outputs": [
    {
     "data": {
      "text/plain": [
       "count    3.258796e+06\n",
       "mean     7.813072e+02\n",
       "std      1.383022e+04\n",
       "min      1.000000e+00\n",
       "25%      1.940000e+02\n",
       "50%      4.590000e+02\n",
       "75%      8.420000e+02\n",
       "max      6.951586e+06\n",
       "Name: tripduration, dtype: float64"
      ]
     },
     "execution_count": 9,
     "metadata": {},
     "output_type": "execute_result"
    }
   ],
   "source": [
    "data['tripduration'].describe()"
   ]
  },
  {
   "cell_type": "code",
   "execution_count": 11,
   "metadata": {},
   "outputs": [
    {
     "data": {
      "text/plain": [
       "459.0"
      ]
     },
     "execution_count": 11,
     "metadata": {},
     "output_type": "execute_result"
    }
   ],
   "source": [
    "from numpy import median\n",
    "\n",
    "median(data['tripduration'])"
   ]
  },
  {
   "cell_type": "code",
   "execution_count": 16,
   "metadata": {},
   "outputs": [
    {
     "data": {
      "text/plain": [
       "count    3.258796e+06\n",
       "mean     7.813072e+02\n",
       "std      1.383022e+04\n",
       "min      1.000000e+00\n",
       "25%      1.940000e+02\n",
       "50%      4.590000e+02\n",
       "75%      8.420000e+02\n",
       "max      6.951586e+06\n",
       "Name: tripduration, dtype: float64"
      ]
     },
     "execution_count": 16,
     "metadata": {},
     "output_type": "execute_result"
    }
   ],
   "source": [
    "dataG= data.loc[(data[\"day_of_week\"] != \"Sunday\") | (data[\"day_of_week\"] != \"Saturday\" )]\n",
    "dataG['tripduration'].describe()"
   ]
  },
  {
   "cell_type": "code",
   "execution_count": 17,
   "metadata": {},
   "outputs": [
    {
     "data": {
      "text/plain": [
       "count    6.807480e+05\n",
       "mean     9.623107e+02\n",
       "std      1.169069e+04\n",
       "min      1.000000e+00\n",
       "25%      2.140000e+02\n",
       "50%      5.210000e+02\n",
       "75%      1.121000e+03\n",
       "max      6.629854e+06\n",
       "Name: tripduration, dtype: float64"
      ]
     },
     "execution_count": 17,
     "metadata": {},
     "output_type": "execute_result"
    }
   ],
   "source": [
    "dataG= data.loc[(data[\"day_of_week\"] == \"Sunday\") | (data[\"day_of_week\"] == \"Saturday\" )]\n",
    "dataG['tripduration'].describe()"
   ]
  },
  {
   "cell_type": "code",
   "execution_count": 14,
   "metadata": {},
   "outputs": [
    {
     "data": {
      "text/html": [
       "<div>\n",
       "<style scoped>\n",
       "    .dataframe tbody tr th:only-of-type {\n",
       "        vertical-align: middle;\n",
       "    }\n",
       "\n",
       "    .dataframe tbody tr th {\n",
       "        vertical-align: top;\n",
       "    }\n",
       "\n",
       "    .dataframe thead th {\n",
       "        text-align: right;\n",
       "    }\n",
       "</style>\n",
       "<table border=\"1\" class=\"dataframe\">\n",
       "  <thead>\n",
       "    <tr style=\"text-align: right;\">\n",
       "      <th></th>\n",
       "      <th>tripduration</th>\n",
       "      <th>day_of_week</th>\n",
       "      <th>Count</th>\n",
       "    </tr>\n",
       "  </thead>\n",
       "  <tbody>\n",
       "    <tr>\n",
       "      <th>0</th>\n",
       "      <td>1</td>\n",
       "      <td>Friday</td>\n",
       "      <td>314</td>\n",
       "    </tr>\n",
       "    <tr>\n",
       "      <th>1</th>\n",
       "      <td>1</td>\n",
       "      <td>Monday</td>\n",
       "      <td>308</td>\n",
       "    </tr>\n",
       "    <tr>\n",
       "      <th>2</th>\n",
       "      <td>1</td>\n",
       "      <td>Saturday</td>\n",
       "      <td>212</td>\n",
       "    </tr>\n",
       "    <tr>\n",
       "      <th>3</th>\n",
       "      <td>1</td>\n",
       "      <td>Sunday</td>\n",
       "      <td>187</td>\n",
       "    </tr>\n",
       "    <tr>\n",
       "      <th>4</th>\n",
       "      <td>1</td>\n",
       "      <td>Thursday</td>\n",
       "      <td>304</td>\n",
       "    </tr>\n",
       "    <tr>\n",
       "      <th>...</th>\n",
       "      <td>...</td>\n",
       "      <td>...</td>\n",
       "      <td>...</td>\n",
       "    </tr>\n",
       "    <tr>\n",
       "      <th>41618</th>\n",
       "      <td>5628778</td>\n",
       "      <td>Wednesday</td>\n",
       "      <td>1</td>\n",
       "    </tr>\n",
       "    <tr>\n",
       "      <th>41619</th>\n",
       "      <td>5937966</td>\n",
       "      <td>Wednesday</td>\n",
       "      <td>1</td>\n",
       "    </tr>\n",
       "    <tr>\n",
       "      <th>41620</th>\n",
       "      <td>6165373</td>\n",
       "      <td>Friday</td>\n",
       "      <td>1</td>\n",
       "    </tr>\n",
       "    <tr>\n",
       "      <th>41621</th>\n",
       "      <td>6629854</td>\n",
       "      <td>Sunday</td>\n",
       "      <td>1</td>\n",
       "    </tr>\n",
       "    <tr>\n",
       "      <th>41622</th>\n",
       "      <td>6951586</td>\n",
       "      <td>Friday</td>\n",
       "      <td>1</td>\n",
       "    </tr>\n",
       "  </tbody>\n",
       "</table>\n",
       "<p>41623 rows × 3 columns</p>\n",
       "</div>"
      ],
      "text/plain": [
       "       tripduration day_of_week  Count\n",
       "0                 1      Friday    314\n",
       "1                 1      Monday    308\n",
       "2                 1    Saturday    212\n",
       "3                 1      Sunday    187\n",
       "4                 1    Thursday    304\n",
       "...             ...         ...    ...\n",
       "41618       5628778   Wednesday      1\n",
       "41619       5937966   Wednesday      1\n",
       "41620       6165373      Friday      1\n",
       "41621       6629854      Sunday      1\n",
       "41622       6951586      Friday      1\n",
       "\n",
       "[41623 rows x 3 columns]"
      ]
     },
     "execution_count": 14,
     "metadata": {},
     "output_type": "execute_result"
    }
   ],
   "source": [
    "df_time_rent = data.groupby(['tripduration','day_of_week']).size().reset_index(name=\"Count\")\n",
    "df_time_rent"
   ]
  },
  {
   "cell_type": "code",
   "execution_count": 13,
   "metadata": {},
   "outputs": [
    {
     "data": {
      "text/html": [
       "<div>\n",
       "<style scoped>\n",
       "    .dataframe tbody tr th:only-of-type {\n",
       "        vertical-align: middle;\n",
       "    }\n",
       "\n",
       "    .dataframe tbody tr th {\n",
       "        vertical-align: top;\n",
       "    }\n",
       "\n",
       "    .dataframe thead th {\n",
       "        text-align: right;\n",
       "    }\n",
       "</style>\n",
       "<table border=\"1\" class=\"dataframe\">\n",
       "  <thead>\n",
       "    <tr style=\"text-align: right;\">\n",
       "      <th></th>\n",
       "      <th>tripduration</th>\n",
       "      <th>Count</th>\n",
       "    </tr>\n",
       "  </thead>\n",
       "  <tbody>\n",
       "    <tr>\n",
       "      <th>count</th>\n",
       "      <td>4.162300e+04</td>\n",
       "      <td>41623.000000</td>\n",
       "    </tr>\n",
       "    <tr>\n",
       "      <th>mean</th>\n",
       "      <td>1.198814e+04</td>\n",
       "      <td>78.293155</td>\n",
       "    </tr>\n",
       "    <tr>\n",
       "      <th>std</th>\n",
       "      <td>1.217078e+05</td>\n",
       "      <td>176.172000</td>\n",
       "    </tr>\n",
       "    <tr>\n",
       "      <th>min</th>\n",
       "      <td>1.000000e+00</td>\n",
       "      <td>1.000000</td>\n",
       "    </tr>\n",
       "    <tr>\n",
       "      <th>25%</th>\n",
       "      <td>1.932000e+03</td>\n",
       "      <td>1.000000</td>\n",
       "    </tr>\n",
       "    <tr>\n",
       "      <th>50%</th>\n",
       "      <td>3.991000e+03</td>\n",
       "      <td>3.000000</td>\n",
       "    </tr>\n",
       "    <tr>\n",
       "      <th>75%</th>\n",
       "      <td>6.783000e+03</td>\n",
       "      <td>45.000000</td>\n",
       "    </tr>\n",
       "    <tr>\n",
       "      <th>max</th>\n",
       "      <td>6.951586e+06</td>\n",
       "      <td>1357.000000</td>\n",
       "    </tr>\n",
       "  </tbody>\n",
       "</table>\n",
       "</div>"
      ],
      "text/plain": [
       "       tripduration         Count\n",
       "count  4.162300e+04  41623.000000\n",
       "mean   1.198814e+04     78.293155\n",
       "std    1.217078e+05    176.172000\n",
       "min    1.000000e+00      1.000000\n",
       "25%    1.932000e+03      1.000000\n",
       "50%    3.991000e+03      3.000000\n",
       "75%    6.783000e+03     45.000000\n",
       "max    6.951586e+06   1357.000000"
      ]
     },
     "execution_count": 13,
     "metadata": {},
     "output_type": "execute_result"
    }
   ],
   "source": [
    "df_time_rent.describe()"
   ]
  },
  {
   "cell_type": "code",
   "execution_count": 19,
   "metadata": {},
   "outputs": [
    {
     "data": {
      "image/png": "[encoded data removed]",
      "text/plain": [
       "<Figure size 432x288 with 1 Axes>"
      ]
     },
     "metadata": {},
     "output_type": "display_data"
    }
   ],
   "source": [
    "#Filter by Gender\n",
    "dataF = data[data[\"gender\"] == \"Female\"]\n",
    "\n",
    "dat = dataF.groupby(['day_of_week']).size().reset_index(name=\"Count\")\n",
    "\n",
    "# Pie chart\n",
    "labels = dat['day_of_week'].tolist()  #['Autumn', 'Spring', 'Summer', 'Winter']\n",
    "sizes = dat['Count'].tolist()  #[910405, 689595, 1322515, 336281]\n",
    "# only \"explode\" the 2nd slice (i.e. 'Hogs')\n",
    "explode = (0, 0, 0, 0, 0, 0, 0)\n",
    "#add colors\n",
    "colors = ['#ff9999','#66b3ff','#99ff99','#ffcc99']\n",
    "fig1, ax1 = plt.subplots()\n",
    "ax1.pie(sizes, explode=explode, labels=labels, colors=colors, autopct='%1.0f%%',\n",
    "        shadow=True, startangle=90)\n",
    "# Equal aspect ratio ensures that pie is drawn as a circle\n",
    "ax1.axis('equal')\n",
    "plt.tight_layout()\n",
    "plt.show()"
   ]
  },
  {
   "cell_type": "code",
   "execution_count": 8,
   "metadata": {},
   "outputs": [
    {
     "data": {
      "text/html": [
       "<div>\n",
       "<style scoped>\n",
       "    .dataframe tbody tr th:only-of-type {\n",
       "        vertical-align: middle;\n",
       "    }\n",
       "\n",
       "    .dataframe tbody tr th {\n",
       "        vertical-align: top;\n",
       "    }\n",
       "\n",
       "    .dataframe thead th {\n",
       "        text-align: right;\n",
       "    }\n",
       "</style>\n",
       "<table border=\"1\" class=\"dataframe\">\n",
       "  <thead>\n",
       "    <tr style=\"text-align: right;\">\n",
       "      <th></th>\n",
       "      <th>bikeid</th>\n",
       "      <th>Count</th>\n",
       "    </tr>\n",
       "  </thead>\n",
       "  <tbody>\n",
       "    <tr>\n",
       "      <th>0</th>\n",
       "      <td>1</td>\n",
       "      <td>431</td>\n",
       "    </tr>\n",
       "    <tr>\n",
       "      <th>1</th>\n",
       "      <td>2</td>\n",
       "      <td>287</td>\n",
       "    </tr>\n",
       "    <tr>\n",
       "      <th>2</th>\n",
       "      <td>3</td>\n",
       "      <td>601</td>\n",
       "    </tr>\n",
       "    <tr>\n",
       "      <th>3</th>\n",
       "      <td>4</td>\n",
       "      <td>721</td>\n",
       "    </tr>\n",
       "    <tr>\n",
       "      <th>4</th>\n",
       "      <td>5</td>\n",
       "      <td>278</td>\n",
       "    </tr>\n",
       "    <tr>\n",
       "      <th>...</th>\n",
       "      <td>...</td>\n",
       "      <td>...</td>\n",
       "    </tr>\n",
       "    <tr>\n",
       "      <th>6006</th>\n",
       "      <td>6929</td>\n",
       "      <td>109</td>\n",
       "    </tr>\n",
       "    <tr>\n",
       "      <th>6007</th>\n",
       "      <td>6931</td>\n",
       "      <td>85</td>\n",
       "    </tr>\n",
       "    <tr>\n",
       "      <th>6008</th>\n",
       "      <td>6941</td>\n",
       "      <td>16</td>\n",
       "    </tr>\n",
       "    <tr>\n",
       "      <th>6009</th>\n",
       "      <td>6942</td>\n",
       "      <td>97</td>\n",
       "    </tr>\n",
       "    <tr>\n",
       "      <th>6010</th>\n",
       "      <td>6946</td>\n",
       "      <td>64</td>\n",
       "    </tr>\n",
       "  </tbody>\n",
       "</table>\n",
       "<p>6011 rows × 2 columns</p>\n",
       "</div>"
      ],
      "text/plain": [
       "      bikeid  Count\n",
       "0          1    431\n",
       "1          2    287\n",
       "2          3    601\n",
       "3          4    721\n",
       "4          5    278\n",
       "...      ...    ...\n",
       "6006    6929    109\n",
       "6007    6931     85\n",
       "6008    6941     16\n",
       "6009    6942     97\n",
       "6010    6946     64\n",
       "\n",
       "[6011 rows x 2 columns]"
      ]
     },
     "execution_count": 8,
     "metadata": {},
     "output_type": "execute_result"
    }
   ],
   "source": [
    "data.groupby(['bikeid']).size().reset_index(name=\"Count\")"
   ]
  },
  {
   "cell_type": "markdown",
   "metadata": {},
   "source": [
    "## For gender"
   ]
  },
  {
   "cell_type": "code",
   "execution_count": 83,
   "metadata": {},
   "outputs": [
    {
     "data": {
      "text/plain": [
       "Male      2400819\n",
       "Female     857977\n",
       "Name: gender, dtype: int64"
      ]
     },
     "execution_count": 83,
     "metadata": {},
     "output_type": "execute_result"
    }
   ],
   "source": [
    "data['gender'].value_counts()"
   ]
  },
  {
   "cell_type": "code",
   "execution_count": 114,
   "metadata": {},
   "outputs": [
    {
     "data": {
      "image/png": "[encoded data removed]",
      "text/plain": [
       "<Figure size 432x288 with 1 Axes>"
      ]
     },
     "metadata": {},
     "output_type": "display_data"
    }
   ],
   "source": [
    "# Pie chart\n",
    "labels = ['Male', 'Female']\n",
    "sizes = [2400819, 857977]\n",
    "# only \"explode\" the 2nd slice (i.e. 'Hogs')\n",
    "explode = (0, 0.1)\n",
    "#add colors\n",
    "colors = ['#66b3ff', '#ff9999']\n",
    "fig1, ax1 = plt.subplots()\n",
    "ax1.pie(sizes, explode=explode, labels=labels, colors=colors, autopct='%1.0f%%',\n",
    "        shadow=True, startangle=90)\n",
    "# Equal aspect ratio ensures that pie is drawn as a circle\n",
    "ax1.axis('equal')\n",
    "plt.tight_layout()\n",
    "plt.show()"
   ]
  },
  {
   "cell_type": "markdown",
   "metadata": {},
   "source": [
    "## Per usertype"
   ]
  },
  {
   "cell_type": "code",
   "execution_count": 80,
   "metadata": {},
   "outputs": [
    {
     "data": {
      "text/plain": [
       "Subscriber    2914616\n",
       "Customer       344180\n",
       "Name: usertype, dtype: int64"
      ]
     },
     "execution_count": 80,
     "metadata": {},
     "output_type": "execute_result"
    }
   ],
   "source": [
    "data['usertype'].value_counts()"
   ]
  },
  {
   "cell_type": "code",
   "execution_count": 115,
   "metadata": {},
   "outputs": [
    {
     "data": {
      "image/png": "[encoded data removed]",
      "text/plain": [
       "<Figure size 432x288 with 1 Axes>"
      ]
     },
     "metadata": {},
     "output_type": "display_data"
    }
   ],
   "source": [
    "# Pie chart\n",
    "labels = ['Subscriber', 'Customer']\n",
    "sizes = [2914616, 344180]\n",
    "# only \"explode\" the 2nd slice (i.e. 'Hogs')\n",
    "explode = (0, 0.07)\n",
    "fig1, ax1 = plt.subplots()\n",
    "ax1.pie(sizes, explode=explode, labels=labels, autopct='%1.0f%%',\n",
    "        shadow=True, startangle=90)\n",
    "# Equal aspect ratio ensures that pie is drawn as a circle\n",
    "ax1.axis('equal')\n",
    "plt.tight_layout()\n",
    "plt.show()"
   ]
  },
  {
   "cell_type": "markdown",
   "metadata": {},
   "source": [
    "## Pie chart for birthyear bins"
   ]
  },
  {
   "cell_type": "code",
   "execution_count": 20,
   "metadata": {},
   "outputs": [
    {
     "data": {
      "text/plain": [
       "<bound method IndexOpsMixin.value_counts of 0               young\n",
       "1               young\n",
       "2          very_young\n",
       "3          very_young\n",
       "4          very_young\n",
       "              ...    \n",
       "3817999         young\n",
       "3818000    very_young\n",
       "3818001    middle_age\n",
       "3818002         young\n",
       "3818003         young\n",
       "Name: birthyear_bins, Length: 3258796, dtype: category\n",
       "Categories (4, object): [old < middle_age < young < very_young]>"
      ]
     },
     "execution_count": 20,
     "metadata": {},
     "output_type": "execute_result"
    }
   ],
   "source": [
    "data['birthyear_bins'].value_counts"
   ]
  },
  {
   "cell_type": "code",
   "execution_count": 21,
   "metadata": {},
   "outputs": [
    {
     "data": {
      "text/plain": [
       "27.0    203353\n",
       "30.0    190338\n",
       "26.0    186823\n",
       "29.0    184083\n",
       "28.0    180340\n",
       "         ...  \n",
       "82.0         4\n",
       "84.0         2\n",
       "94.0         2\n",
       "83.0         1\n",
       "99.0         1\n",
       "Name: age, Length: 78, dtype: int64"
      ]
     },
     "execution_count": 21,
     "metadata": {},
     "output_type": "execute_result"
    }
   ],
   "source": [
    "data['age'] = (2019 - data['birthyear']).astype('<m8[Y]') \n",
    "data['age'].value_counts()"
   ]
  },
  {
   "cell_type": "code",
   "execution_count": 22,
   "metadata": {},
   "outputs": [
    {
     "name": "stdout",
     "output_type": "stream",
     "text": [
      "<class 'pandas.core.frame.DataFrame'>\n",
      "Int64Index: 3258796 entries, 0 to 3818003\n",
      "Data columns (total 21 columns):\n",
      " #   Column             Dtype         \n",
      "---  ------             -----         \n",
      " 0   trip_id            int64         \n",
      " 1   start_time         datetime64[ns]\n",
      " 2   month              object        \n",
      " 3   month_numb         int64         \n",
      " 4   day_of_week        object        \n",
      " 5   hour               int64         \n",
      " 6   quarter            int64         \n",
      " 7   Season             object        \n",
      " 8   end_time           datetime64[ns]\n",
      " 9   bikeid             int64         \n",
      " 10  tripduration       int64         \n",
      " 11  from_station_id    int64         \n",
      " 12  from_station_name  object        \n",
      " 13  to_station_id      int64         \n",
      " 14  to_station_name    object        \n",
      " 15  usertype           object        \n",
      " 16  gender             object        \n",
      " 17  birthyear          Int64         \n",
      " 18  birthyear_bins     category      \n",
      " 19  start_date         object        \n",
      " 20  age                float64       \n",
      "dtypes: Int64(1), category(1), datetime64[ns](2), float64(1), int64(8), object(8)\n",
      "memory usage: 528.3+ MB\n"
     ]
    }
   ],
   "source": [
    "data.info()"
   ]
  },
  {
   "cell_type": "code",
   "execution_count": 23,
   "metadata": {},
   "outputs": [
    {
     "data": {
      "text/html": [
       "<div>\n",
       "<style scoped>\n",
       "    .dataframe tbody tr th:only-of-type {\n",
       "        vertical-align: middle;\n",
       "    }\n",
       "\n",
       "    .dataframe tbody tr th {\n",
       "        vertical-align: top;\n",
       "    }\n",
       "\n",
       "    .dataframe thead th {\n",
       "        text-align: right;\n",
       "    }\n",
       "</style>\n",
       "<table border=\"1\" class=\"dataframe\">\n",
       "  <thead>\n",
       "    <tr style=\"text-align: right;\">\n",
       "      <th></th>\n",
       "      <th>trip_id</th>\n",
       "      <th>start_time</th>\n",
       "      <th>month</th>\n",
       "      <th>month_numb</th>\n",
       "      <th>day_of_week</th>\n",
       "      <th>hour</th>\n",
       "      <th>quarter</th>\n",
       "      <th>Season</th>\n",
       "      <th>end_time</th>\n",
       "      <th>bikeid</th>\n",
       "      <th>tripduration</th>\n",
       "      <th>from_station_id</th>\n",
       "      <th>from_station_name</th>\n",
       "      <th>to_station_id</th>\n",
       "      <th>to_station_name</th>\n",
       "      <th>usertype</th>\n",
       "      <th>gender</th>\n",
       "      <th>birthyear</th>\n",
       "      <th>birthyear_bins</th>\n",
       "      <th>start_date</th>\n",
       "      <th>age</th>\n",
       "    </tr>\n",
       "  </thead>\n",
       "  <tbody>\n",
       "    <tr>\n",
       "      <th>0</th>\n",
       "      <td>21742443</td>\n",
       "      <td>2019-01-01 00:04:37</td>\n",
       "      <td>January</td>\n",
       "      <td>1</td>\n",
       "      <td>Tuesday</td>\n",
       "      <td>0</td>\n",
       "      <td>1</td>\n",
       "      <td>Winter</td>\n",
       "      <td>2019-01-01 00:11:07</td>\n",
       "      <td>2167</td>\n",
       "      <td>39</td>\n",
       "      <td>199</td>\n",
       "      <td>Wabash Ave &amp; Grand Ave</td>\n",
       "      <td>84</td>\n",
       "      <td>Milwaukee Ave &amp; Grand Ave</td>\n",
       "      <td>Subscriber</td>\n",
       "      <td>Male</td>\n",
       "      <td>1989</td>\n",
       "      <td>young</td>\n",
       "      <td>2019-01-01</td>\n",
       "      <td>30</td>\n",
       "    </tr>\n",
       "    <tr>\n",
       "      <th>1</th>\n",
       "      <td>21742444</td>\n",
       "      <td>2019-01-01 00:08:13</td>\n",
       "      <td>January</td>\n",
       "      <td>1</td>\n",
       "      <td>Tuesday</td>\n",
       "      <td>0</td>\n",
       "      <td>1</td>\n",
       "      <td>Winter</td>\n",
       "      <td>2019-01-01 00:15:34</td>\n",
       "      <td>4386</td>\n",
       "      <td>441</td>\n",
       "      <td>44</td>\n",
       "      <td>State St &amp; Randolph St</td>\n",
       "      <td>624</td>\n",
       "      <td>Dearborn St &amp; Van Buren St (*)</td>\n",
       "      <td>Subscriber</td>\n",
       "      <td>Female</td>\n",
       "      <td>1990</td>\n",
       "      <td>young</td>\n",
       "      <td>2019-01-01</td>\n",
       "      <td>29</td>\n",
       "    </tr>\n",
       "  </tbody>\n",
       "</table>\n",
       "</div>"
      ],
      "text/plain": [
       "    trip_id          start_time    month  month_numb day_of_week  hour  \\\n",
       "0  21742443 2019-01-01 00:04:37  January           1     Tuesday     0   \n",
       "1  21742444 2019-01-01 00:08:13  January           1     Tuesday     0   \n",
       "\n",
       "   quarter  Season            end_time  bikeid  tripduration  from_station_id  \\\n",
       "0        1  Winter 2019-01-01 00:11:07    2167            39              199   \n",
       "1        1  Winter 2019-01-01 00:15:34    4386           441               44   \n",
       "\n",
       "        from_station_name  to_station_id                 to_station_name  \\\n",
       "0  Wabash Ave & Grand Ave             84       Milwaukee Ave & Grand Ave   \n",
       "1  State St & Randolph St            624  Dearborn St & Van Buren St (*)   \n",
       "\n",
       "     usertype  gender  birthyear birthyear_bins  start_date  age  \n",
       "0  Subscriber    Male       1989          young  2019-01-01   30  \n",
       "1  Subscriber  Female       1990          young  2019-01-01   29  "
      ]
     },
     "execution_count": 23,
     "metadata": {},
     "output_type": "execute_result"
    }
   ],
   "source": [
    "data['age'] = data['age'].astype(int)\n",
    "data.head(2)"
   ]
  },
  {
   "cell_type": "code",
   "execution_count": 24,
   "metadata": {},
   "outputs": [
    {
     "data": {
      "text/html": [
       "<div>\n",
       "<style scoped>\n",
       "    .dataframe tbody tr th:only-of-type {\n",
       "        vertical-align: middle;\n",
       "    }\n",
       "\n",
       "    .dataframe tbody tr th {\n",
       "        vertical-align: top;\n",
       "    }\n",
       "\n",
       "    .dataframe thead th {\n",
       "        text-align: right;\n",
       "    }\n",
       "</style>\n",
       "<table border=\"1\" class=\"dataframe\">\n",
       "  <thead>\n",
       "    <tr style=\"text-align: right;\">\n",
       "      <th></th>\n",
       "      <th>trip_id</th>\n",
       "      <th>start_time</th>\n",
       "      <th>month</th>\n",
       "      <th>month_numb</th>\n",
       "      <th>day_of_week</th>\n",
       "      <th>hour</th>\n",
       "      <th>quarter</th>\n",
       "      <th>Season</th>\n",
       "      <th>end_time</th>\n",
       "      <th>bikeid</th>\n",
       "      <th>tripduration</th>\n",
       "      <th>from_station_id</th>\n",
       "      <th>from_station_name</th>\n",
       "      <th>to_station_id</th>\n",
       "      <th>to_station_name</th>\n",
       "      <th>usertype</th>\n",
       "      <th>gender</th>\n",
       "      <th>birthyear</th>\n",
       "      <th>birthyear_bins</th>\n",
       "      <th>start_date</th>\n",
       "      <th>age</th>\n",
       "      <th>age_bin</th>\n",
       "    </tr>\n",
       "  </thead>\n",
       "  <tbody>\n",
       "    <tr>\n",
       "      <th>0</th>\n",
       "      <td>21742443</td>\n",
       "      <td>2019-01-01 00:04:37</td>\n",
       "      <td>January</td>\n",
       "      <td>1</td>\n",
       "      <td>Tuesday</td>\n",
       "      <td>0</td>\n",
       "      <td>1</td>\n",
       "      <td>Winter</td>\n",
       "      <td>2019-01-01 00:11:07</td>\n",
       "      <td>2167</td>\n",
       "      <td>39</td>\n",
       "      <td>199</td>\n",
       "      <td>Wabash Ave &amp; Grand Ave</td>\n",
       "      <td>84</td>\n",
       "      <td>Milwaukee Ave &amp; Grand Ave</td>\n",
       "      <td>Subscriber</td>\n",
       "      <td>Male</td>\n",
       "      <td>1989</td>\n",
       "      <td>young</td>\n",
       "      <td>2019-01-01</td>\n",
       "      <td>30</td>\n",
       "      <td>26-34</td>\n",
       "    </tr>\n",
       "    <tr>\n",
       "      <th>1</th>\n",
       "      <td>21742444</td>\n",
       "      <td>2019-01-01 00:08:13</td>\n",
       "      <td>January</td>\n",
       "      <td>1</td>\n",
       "      <td>Tuesday</td>\n",
       "      <td>0</td>\n",
       "      <td>1</td>\n",
       "      <td>Winter</td>\n",
       "      <td>2019-01-01 00:15:34</td>\n",
       "      <td>4386</td>\n",
       "      <td>441</td>\n",
       "      <td>44</td>\n",
       "      <td>State St &amp; Randolph St</td>\n",
       "      <td>624</td>\n",
       "      <td>Dearborn St &amp; Van Buren St (*)</td>\n",
       "      <td>Subscriber</td>\n",
       "      <td>Female</td>\n",
       "      <td>1990</td>\n",
       "      <td>young</td>\n",
       "      <td>2019-01-01</td>\n",
       "      <td>29</td>\n",
       "      <td>26-34</td>\n",
       "    </tr>\n",
       "    <tr>\n",
       "      <th>2</th>\n",
       "      <td>21742445</td>\n",
       "      <td>2019-01-01 00:13:23</td>\n",
       "      <td>January</td>\n",
       "      <td>1</td>\n",
       "      <td>Tuesday</td>\n",
       "      <td>0</td>\n",
       "      <td>1</td>\n",
       "      <td>Winter</td>\n",
       "      <td>2019-01-01 00:27:12</td>\n",
       "      <td>1524</td>\n",
       "      <td>829</td>\n",
       "      <td>15</td>\n",
       "      <td>Racine Ave &amp; 18th St</td>\n",
       "      <td>644</td>\n",
       "      <td>Western Ave &amp; Fillmore St (*)</td>\n",
       "      <td>Subscriber</td>\n",
       "      <td>Female</td>\n",
       "      <td>1994</td>\n",
       "      <td>very_young</td>\n",
       "      <td>2019-01-01</td>\n",
       "      <td>25</td>\n",
       "      <td>18-25</td>\n",
       "    </tr>\n",
       "    <tr>\n",
       "      <th>3</th>\n",
       "      <td>21742446</td>\n",
       "      <td>2019-01-01 00:13:45</td>\n",
       "      <td>January</td>\n",
       "      <td>1</td>\n",
       "      <td>Tuesday</td>\n",
       "      <td>0</td>\n",
       "      <td>1</td>\n",
       "      <td>Winter</td>\n",
       "      <td>2019-01-01 00:43:28</td>\n",
       "      <td>252</td>\n",
       "      <td>1783</td>\n",
       "      <td>123</td>\n",
       "      <td>California Ave &amp; Milwaukee Ave</td>\n",
       "      <td>176</td>\n",
       "      <td>Clark St &amp; Elm St</td>\n",
       "      <td>Subscriber</td>\n",
       "      <td>Male</td>\n",
       "      <td>1993</td>\n",
       "      <td>very_young</td>\n",
       "      <td>2019-01-01</td>\n",
       "      <td>26</td>\n",
       "      <td>26-34</td>\n",
       "    </tr>\n",
       "    <tr>\n",
       "      <th>4</th>\n",
       "      <td>21742447</td>\n",
       "      <td>2019-01-01 00:14:52</td>\n",
       "      <td>January</td>\n",
       "      <td>1</td>\n",
       "      <td>Tuesday</td>\n",
       "      <td>0</td>\n",
       "      <td>1</td>\n",
       "      <td>Winter</td>\n",
       "      <td>2019-01-01 00:20:56</td>\n",
       "      <td>1170</td>\n",
       "      <td>364</td>\n",
       "      <td>173</td>\n",
       "      <td>Mies van der Rohe Way &amp; Chicago Ave</td>\n",
       "      <td>35</td>\n",
       "      <td>Streeter Dr &amp; Grand Ave</td>\n",
       "      <td>Subscriber</td>\n",
       "      <td>Male</td>\n",
       "      <td>1994</td>\n",
       "      <td>very_young</td>\n",
       "      <td>2019-01-01</td>\n",
       "      <td>25</td>\n",
       "      <td>18-25</td>\n",
       "    </tr>\n",
       "  </tbody>\n",
       "</table>\n",
       "</div>"
      ],
      "text/plain": [
       "    trip_id          start_time    month  month_numb day_of_week  hour  \\\n",
       "0  21742443 2019-01-01 00:04:37  January           1     Tuesday     0   \n",
       "1  21742444 2019-01-01 00:08:13  January           1     Tuesday     0   \n",
       "2  21742445 2019-01-01 00:13:23  January           1     Tuesday     0   \n",
       "3  21742446 2019-01-01 00:13:45  January           1     Tuesday     0   \n",
       "4  21742447 2019-01-01 00:14:52  January           1     Tuesday     0   \n",
       "\n",
       "   quarter  Season            end_time  bikeid  tripduration  from_station_id  \\\n",
       "0        1  Winter 2019-01-01 00:11:07    2167            39              199   \n",
       "1        1  Winter 2019-01-01 00:15:34    4386           441               44   \n",
       "2        1  Winter 2019-01-01 00:27:12    1524           829               15   \n",
       "3        1  Winter 2019-01-01 00:43:28     252          1783              123   \n",
       "4        1  Winter 2019-01-01 00:20:56    1170           364              173   \n",
       "\n",
       "                     from_station_name  to_station_id  \\\n",
       "0               Wabash Ave & Grand Ave             84   \n",
       "1               State St & Randolph St            624   \n",
       "2                 Racine Ave & 18th St            644   \n",
       "3       California Ave & Milwaukee Ave            176   \n",
       "4  Mies van der Rohe Way & Chicago Ave             35   \n",
       "\n",
       "                  to_station_name    usertype  gender  birthyear  \\\n",
       "0       Milwaukee Ave & Grand Ave  Subscriber    Male       1989   \n",
       "1  Dearborn St & Van Buren St (*)  Subscriber  Female       1990   \n",
       "2   Western Ave & Fillmore St (*)  Subscriber  Female       1994   \n",
       "3               Clark St & Elm St  Subscriber    Male       1993   \n",
       "4         Streeter Dr & Grand Ave  Subscriber    Male       1994   \n",
       "\n",
       "  birthyear_bins  start_date  age age_bin  \n",
       "0          young  2019-01-01   30   26-34  \n",
       "1          young  2019-01-01   29   26-34  \n",
       "2     very_young  2019-01-01   25   18-25  \n",
       "3     very_young  2019-01-01   26   26-34  \n",
       "4     very_young  2019-01-01   25   18-25  "
      ]
     },
     "execution_count": 24,
     "metadata": {},
     "output_type": "execute_result"
    }
   ],
   "source": [
    "#data['birthyear_bins']=pd.cut(data['birthyear'], bins=4, labels=('old','middle_age','young','very_young'))\n",
    "data['age_bin'] = pd.cut(data['age'], [0, 19, 25, 35, 50, 65, 100], labels=['< 18 years', '18-25', '26-34', '35-50', '51-65', '> 65 years'])\n",
    "data.head()"
   ]
  },
  {
   "cell_type": "code",
   "execution_count": 29,
   "metadata": {},
   "outputs": [
    {
     "data": {
      "text/plain": [
       "26-34         1581663\n",
       "35-50          777793\n",
       "18-25          489289\n",
       "51-65          346449\n",
       "> 65 years      33404\n",
       "< 18 years      30198\n",
       "Name: age_bin, dtype: int64"
      ]
     },
     "execution_count": 29,
     "metadata": {},
     "output_type": "execute_result"
    }
   ],
   "source": [
    "data['age_bin'].value_counts()"
   ]
  },
  {
   "cell_type": "code",
   "execution_count": 36,
   "metadata": {},
   "outputs": [
    {
     "data": {
      "image/png": "[encoded data removed]",
      "text/plain": [
       "<Figure size 432x288 with 1 Axes>"
      ]
     },
     "metadata": {},
     "output_type": "display_data"
    }
   ],
   "source": [
    "labels = ['18-25','26-34','< 18 years', '35-50', '51-65', '> 65 years']\n",
    "sizes = [489289, 1581663,30198, 777793, 346449, 33404]\n",
    "# only \"explode\" the 2nd slice (i.e. 'Hogs')\n",
    "explode = (0, 0.02, 0, 0, 0, 0)\n",
    "#add colors\n",
    "colors = ['#ff9999','#66b3ff','#ffcc99','#00ffff', '#ffd700', '#caff70']\n",
    "#colors = ['#ff9999','#66b3ff','#99ff99','#ffcc99']\n",
    "fig1, ax1 = plt.subplots()\n",
    "ax1.pie(sizes, explode=explode, labels=labels, colors=colors, autopct='%1.0f%%',\n",
    "        shadow=True, startangle=90)\n",
    "# Equal aspect ratio ensures that pie is drawn as a circle\n",
    "ax1.axis('equal')\n",
    "plt.tight_layout()\n",
    "plt.show()"
   ]
  },
  {
   "cell_type": "markdown",
   "metadata": {},
   "source": [
    "## I. Using bioinfokit to run the tests"
   ]
  },
  {
   "cell_type": "code",
   "execution_count": 141,
   "metadata": {},
   "outputs": [
    {
     "name": "stdout",
     "output_type": "stream",
     "text": [
      "Requirement already satisfied: bioinfokit in c:\\programdata\\anaconda3\\lib\\site-packages (2.0.8)\n",
      "Requirement already satisfied: tabulate in c:\\programdata\\anaconda3\\lib\\site-packages (from bioinfokit) (0.8.9)\n",
      "Requirement already satisfied: matplotlib-venn in c:\\programdata\\anaconda3\\lib\\site-packages (from bioinfokit) (0.11.6)\n",
      "Requirement already satisfied: numpy in c:\\programdata\\anaconda3\\lib\\site-packages (from bioinfokit) (1.18.1)\n",
      "Requirement already satisfied: statsmodels in c:\\programdata\\anaconda3\\lib\\site-packages (from bioinfokit) (0.11.0)\n",
      "Requirement already satisfied: adjustText in c:\\programdata\\anaconda3\\lib\\site-packages (from bioinfokit) (0.7.3)\n",
      "Requirement already satisfied: scipy in c:\\programdata\\anaconda3\\lib\\site-packages (from bioinfokit) (1.4.1)\n",
      "Requirement already satisfied: pandas in c:\\programdata\\anaconda3\\lib\\site-packages (from bioinfokit) (1.0.1)\n",
      "Requirement already satisfied: scikit-learn in c:\\programdata\\anaconda3\\lib\\site-packages (from bioinfokit) (0.22.1)\n",
      "Requirement already satisfied: textwrap3 in c:\\programdata\\anaconda3\\lib\\site-packages (from bioinfokit) (0.9.2)\n",
      "Requirement already satisfied: matplotlib in c:\\programdata\\anaconda3\\lib\\site-packages (from bioinfokit) (3.1.3)\n",
      "Requirement already satisfied: seaborn in c:\\programdata\\anaconda3\\lib\\site-packages (from bioinfokit) (0.10.0)\n",
      "Requirement already satisfied: patsy>=0.5 in c:\\programdata\\anaconda3\\lib\\site-packages (from statsmodels->bioinfokit) (0.5.1)\n",
      "Requirement already satisfied: pytz>=2017.2 in c:\\programdata\\anaconda3\\lib\\site-packages (from pandas->bioinfokit) (2019.3)\n",
      "Requirement already satisfied: python-dateutil>=2.6.1 in c:\\programdata\\anaconda3\\lib\\site-packages (from pandas->bioinfokit) (2.8.1)\n",
      "Requirement already satisfied: joblib>=0.11 in c:\\programdata\\anaconda3\\lib\\site-packages (from scikit-learn->bioinfokit) (0.14.1)\n",
      "Requirement already satisfied: kiwisolver>=1.0.1 in c:\\programdata\\anaconda3\\lib\\site-packages (from matplotlib->bioinfokit) (1.1.0)\n",
      "Requirement already satisfied: cycler>=0.10 in c:\\programdata\\anaconda3\\lib\\site-packages (from matplotlib->bioinfokit) (0.10.0)\n",
      "Requirement already satisfied: pyparsing!=2.0.4,!=2.1.2,!=2.1.6,>=2.0.1 in c:\\programdata\\anaconda3\\lib\\site-packages (from matplotlib->bioinfokit) (2.4.6)\n",
      "Requirement already satisfied: six in c:\\programdata\\anaconda3\\lib\\site-packages (from patsy>=0.5->statsmodels->bioinfokit) (1.14.0)\n",
      "Requirement already satisfied: setuptools in c:\\programdata\\anaconda3\\lib\\site-packages (from kiwisolver>=1.0.1->matplotlib->bioinfokit) (45.2.0.post20200210)\n"
     ]
    }
   ],
   "source": [
    "! pip install bioinfokit"
   ]
  },
  {
   "cell_type": "code",
   "execution_count": 142,
   "metadata": {},
   "outputs": [
    {
     "ename": "ModuleNotFoundError",
     "evalue": "No module named 'bioinfokit.analysis'",
     "output_type": "error",
     "traceback": [
      "\u001b[1;31m---------------------------------------------------------------------------\u001b[0m",
      "\u001b[1;31mModuleNotFoundError\u001b[0m                       Traceback (most recent call last)",
      "\u001b[1;32m<ipython-input-142-0ff64f6c7680>\u001b[0m in \u001b[0;36m<module>\u001b[1;34m\u001b[0m\n\u001b[1;32m----> 1\u001b[1;33m \u001b[1;32mfrom\u001b[0m \u001b[0mbioinfokit\u001b[0m\u001b[1;33m.\u001b[0m\u001b[0manalysis\u001b[0m \u001b[1;32mimport\u001b[0m \u001b[0mstat\u001b[0m\u001b[1;33m\u001b[0m\u001b[1;33m\u001b[0m\u001b[0m\n\u001b[0m",
      "\u001b[1;31mModuleNotFoundError\u001b[0m: No module named 'bioinfokit.analysis'"
     ]
    }
   ],
   "source": [
    "from bioinfokit.analysis import stat"
   ]
  },
  {
   "cell_type": "code",
   "execution_count": null,
   "metadata": {},
   "outputs": [],
   "source": []
  },
  {
   "cell_type": "code",
   "execution_count": null,
   "metadata": {},
   "outputs": [],
   "source": []
  },
  {
   "cell_type": "code",
   "execution_count": null,
   "metadata": {},
   "outputs": [],
   "source": []
  },
  {
   "cell_type": "markdown",
   "metadata": {},
   "source": [
    "## 1. Comparing bike rented by males and females within a week"
   ]
  },
  {
   "cell_type": "markdown",
   "metadata": {},
   "source": [
    "### a. Anova"
   ]
  },
  {
   "cell_type": "code",
   "execution_count": 122,
   "metadata": {},
   "outputs": [
    {
     "name": "stdout",
     "output_type": "stream",
     "text": [
      "(14, 3)\n"
     ]
    },
    {
     "data": {
      "text/html": [
       "<div>\n",
       "<style scoped>\n",
       "    .dataframe tbody tr th:only-of-type {\n",
       "        vertical-align: middle;\n",
       "    }\n",
       "\n",
       "    .dataframe tbody tr th {\n",
       "        vertical-align: top;\n",
       "    }\n",
       "\n",
       "    .dataframe thead th {\n",
       "        text-align: right;\n",
       "    }\n",
       "</style>\n",
       "<table border=\"1\" class=\"dataframe\">\n",
       "  <thead>\n",
       "    <tr style=\"text-align: right;\">\n",
       "      <th></th>\n",
       "      <th>day_of_week</th>\n",
       "      <th>gender</th>\n",
       "      <th>Count</th>\n",
       "    </tr>\n",
       "  </thead>\n",
       "  <tbody>\n",
       "    <tr>\n",
       "      <th>0</th>\n",
       "      <td>Friday</td>\n",
       "      <td>Female</td>\n",
       "      <td>124483</td>\n",
       "    </tr>\n",
       "    <tr>\n",
       "      <th>1</th>\n",
       "      <td>Friday</td>\n",
       "      <td>Male</td>\n",
       "      <td>376087</td>\n",
       "    </tr>\n",
       "    <tr>\n",
       "      <th>2</th>\n",
       "      <td>Monday</td>\n",
       "      <td>Female</td>\n",
       "      <td>124506</td>\n",
       "    </tr>\n",
       "  </tbody>\n",
       "</table>\n",
       "</div>"
      ],
      "text/plain": [
       "  day_of_week  gender   Count\n",
       "0      Friday  Female  124483\n",
       "1      Friday    Male  376087\n",
       "2      Monday  Female  124506"
      ]
     },
     "execution_count": 122,
     "metadata": {},
     "output_type": "execute_result"
    }
   ],
   "source": [
    "df_gend = data.groupby([\"day_of_week\", \"gender\"]).size().reset_index(name=\"Count\")\n",
    "print(df_gend.shape)\n",
    "df_gend.head(3)"
   ]
  },
  {
   "cell_type": "code",
   "execution_count": 124,
   "metadata": {},
   "outputs": [
    {
     "data": {
      "text/html": [
       "<div>\n",
       "<style scoped>\n",
       "    .dataframe tbody tr th:only-of-type {\n",
       "        vertical-align: middle;\n",
       "    }\n",
       "\n",
       "    .dataframe tbody tr th {\n",
       "        vertical-align: top;\n",
       "    }\n",
       "\n",
       "    .dataframe thead th {\n",
       "        text-align: right;\n",
       "    }\n",
       "</style>\n",
       "<table border=\"1\" class=\"dataframe\">\n",
       "  <thead>\n",
       "    <tr style=\"text-align: right;\">\n",
       "      <th></th>\n",
       "      <th>sum_sq</th>\n",
       "      <th>df</th>\n",
       "      <th>F</th>\n",
       "      <th>PR(&gt;F)</th>\n",
       "    </tr>\n",
       "  </thead>\n",
       "  <tbody>\n",
       "    <tr>\n",
       "      <th>gender</th>\n",
       "      <td>1.700258e+11</td>\n",
       "      <td>1.0</td>\n",
       "      <td>56.280854</td>\n",
       "      <td>0.000007</td>\n",
       "    </tr>\n",
       "    <tr>\n",
       "      <th>Residual</th>\n",
       "      <td>3.625229e+10</td>\n",
       "      <td>12.0</td>\n",
       "      <td>NaN</td>\n",
       "      <td>NaN</td>\n",
       "    </tr>\n",
       "  </tbody>\n",
       "</table>\n",
       "</div>"
      ],
      "text/plain": [
       "                sum_sq    df          F    PR(>F)\n",
       "gender    1.700258e+11   1.0  56.280854  0.000007\n",
       "Residual  3.625229e+10  12.0        NaN       NaN"
      ]
     },
     "execution_count": 124,
     "metadata": {},
     "output_type": "execute_result"
    }
   ],
   "source": [
    "model = ols('Count ~ gender', data=df_gend).fit()\n",
    "aov_res = sm.stats.anova_lm(model, typ=2)\n",
    "aov_res"
   ]
  },
  {
   "cell_type": "markdown",
   "metadata": {},
   "source": [
    "### b. T-test"
   ]
  },
  {
   "cell_type": "code",
   "execution_count": 125,
   "metadata": {},
   "outputs": [
    {
     "name": "stdout",
     "output_type": "stream",
     "text": [
      "t-value: 7.502056638640463\n",
      "p-value: 7.213790492888334e-06\n"
     ]
    }
   ],
   "source": [
    "male = df_gend[df_gend['gender'] == 'Male']\n",
    "female = df_gend[df_gend['gender'] == 'Female']\n",
    "t, p = stats.ttest_ind(male['Count'], female['Count'])\n",
    "print(f't-value: {t}')\n",
    "print(f'p-value: {p}')"
   ]
  },
  {
   "cell_type": "markdown",
   "metadata": {},
   "source": [
    "## 2. Day of the week vs usertype"
   ]
  },
  {
   "cell_type": "markdown",
   "metadata": {},
   "source": [
    "### a. Anova"
   ]
  },
  {
   "cell_type": "code",
   "execution_count": 126,
   "metadata": {},
   "outputs": [
    {
     "name": "stdout",
     "output_type": "stream",
     "text": [
      "(14, 3)\n"
     ]
    },
    {
     "data": {
      "text/html": [
       "<div>\n",
       "<style scoped>\n",
       "    .dataframe tbody tr th:only-of-type {\n",
       "        vertical-align: middle;\n",
       "    }\n",
       "\n",
       "    .dataframe tbody tr th {\n",
       "        vertical-align: top;\n",
       "    }\n",
       "\n",
       "    .dataframe thead th {\n",
       "        text-align: right;\n",
       "    }\n",
       "</style>\n",
       "<table border=\"1\" class=\"dataframe\">\n",
       "  <thead>\n",
       "    <tr style=\"text-align: right;\">\n",
       "      <th></th>\n",
       "      <th>day_of_week</th>\n",
       "      <th>usertype</th>\n",
       "      <th>Count</th>\n",
       "    </tr>\n",
       "  </thead>\n",
       "  <tbody>\n",
       "    <tr>\n",
       "      <th>0</th>\n",
       "      <td>Friday</td>\n",
       "      <td>Customer</td>\n",
       "      <td>47117</td>\n",
       "    </tr>\n",
       "    <tr>\n",
       "      <th>1</th>\n",
       "      <td>Friday</td>\n",
       "      <td>Subscriber</td>\n",
       "      <td>453453</td>\n",
       "    </tr>\n",
       "    <tr>\n",
       "      <th>2</th>\n",
       "      <td>Monday</td>\n",
       "      <td>Customer</td>\n",
       "      <td>40665</td>\n",
       "    </tr>\n",
       "  </tbody>\n",
       "</table>\n",
       "</div>"
      ],
      "text/plain": [
       "  day_of_week    usertype   Count\n",
       "0      Friday    Customer   47117\n",
       "1      Friday  Subscriber  453453\n",
       "2      Monday    Customer   40665"
      ]
     },
     "execution_count": 126,
     "metadata": {},
     "output_type": "execute_result"
    }
   ],
   "source": [
    "df_day_users = data.groupby([\"day_of_week\", \"usertype\"]).size().reset_index(name=\"Count\")\n",
    "print(df_day_users.shape)\n",
    "df_day_users.head(3)"
   ]
  },
  {
   "cell_type": "code",
   "execution_count": 127,
   "metadata": {},
   "outputs": [
    {
     "data": {
      "text/html": [
       "<div>\n",
       "<style scoped>\n",
       "    .dataframe tbody tr th:only-of-type {\n",
       "        vertical-align: middle;\n",
       "    }\n",
       "\n",
       "    .dataframe tbody tr th {\n",
       "        vertical-align: top;\n",
       "    }\n",
       "\n",
       "    .dataframe thead th {\n",
       "        text-align: right;\n",
       "    }\n",
       "</style>\n",
       "<table border=\"1\" class=\"dataframe\">\n",
       "  <thead>\n",
       "    <tr style=\"text-align: right;\">\n",
       "      <th></th>\n",
       "      <th>sum_sq</th>\n",
       "      <th>df</th>\n",
       "      <th>F</th>\n",
       "      <th>PR(&gt;F)</th>\n",
       "    </tr>\n",
       "  </thead>\n",
       "  <tbody>\n",
       "    <tr>\n",
       "      <th>usertype</th>\n",
       "      <td>4.719387e+11</td>\n",
       "      <td>1.0</td>\n",
       "      <td>88.415262</td>\n",
       "      <td>6.936028e-07</td>\n",
       "    </tr>\n",
       "    <tr>\n",
       "      <th>Residual</th>\n",
       "      <td>6.405301e+10</td>\n",
       "      <td>12.0</td>\n",
       "      <td>NaN</td>\n",
       "      <td>NaN</td>\n",
       "    </tr>\n",
       "  </tbody>\n",
       "</table>\n",
       "</div>"
      ],
      "text/plain": [
       "                sum_sq    df          F        PR(>F)\n",
       "usertype  4.719387e+11   1.0  88.415262  6.936028e-07\n",
       "Residual  6.405301e+10  12.0        NaN           NaN"
      ]
     },
     "execution_count": 127,
     "metadata": {},
     "output_type": "execute_result"
    }
   ],
   "source": [
    "model = ols('Count ~ usertype', data=df_day_users).fit()\n",
    "aov_res = sm.stats.anova_lm(model, typ=2)\n",
    "aov_res"
   ]
  },
  {
   "cell_type": "markdown",
   "metadata": {},
   "source": [
    "### b. T-test"
   ]
  },
  {
   "cell_type": "code",
   "execution_count": 128,
   "metadata": {},
   "outputs": [
    {
     "name": "stdout",
     "output_type": "stream",
     "text": [
      "t-value: 9.40293900611628\n",
      "p-value: 6.936028359114128e-07\n"
     ]
    }
   ],
   "source": [
    "subscribers = df_day_users[df_users['usertype'] == 'Subscriber']\n",
    "customers = df_day_users[df_users['usertype'] == 'Customer']\n",
    "t, p = stats.ttest_ind(subscribers['Count'], customers['Count'])\n",
    "print(f't-value: {t}')\n",
    "print(f'p-value: {p}')"
   ]
  },
  {
   "cell_type": "markdown",
   "metadata": {},
   "source": [
    "## 3. Finding if subscribers and customers rent equally and if it varies through different seasons"
   ]
  },
  {
   "cell_type": "markdown",
   "metadata": {},
   "source": [
    "### a. Anova"
   ]
  },
  {
   "cell_type": "code",
   "execution_count": 130,
   "metadata": {},
   "outputs": [
    {
     "name": "stdout",
     "output_type": "stream",
     "text": [
      "(8, 3)\n"
     ]
    },
    {
     "data": {
      "text/html": [
       "<div>\n",
       "<style scoped>\n",
       "    .dataframe tbody tr th:only-of-type {\n",
       "        vertical-align: middle;\n",
       "    }\n",
       "\n",
       "    .dataframe tbody tr th {\n",
       "        vertical-align: top;\n",
       "    }\n",
       "\n",
       "    .dataframe thead th {\n",
       "        text-align: right;\n",
       "    }\n",
       "</style>\n",
       "<table border=\"1\" class=\"dataframe\">\n",
       "  <thead>\n",
       "    <tr style=\"text-align: right;\">\n",
       "      <th></th>\n",
       "      <th>Season</th>\n",
       "      <th>usertype</th>\n",
       "      <th>Count</th>\n",
       "    </tr>\n",
       "  </thead>\n",
       "  <tbody>\n",
       "    <tr>\n",
       "      <th>0</th>\n",
       "      <td>Autumn</td>\n",
       "      <td>Customer</td>\n",
       "      <td>94003</td>\n",
       "    </tr>\n",
       "    <tr>\n",
       "      <th>1</th>\n",
       "      <td>Autumn</td>\n",
       "      <td>Subscriber</td>\n",
       "      <td>816402</td>\n",
       "    </tr>\n",
       "    <tr>\n",
       "      <th>2</th>\n",
       "      <td>Spring</td>\n",
       "      <td>Customer</td>\n",
       "      <td>40842</td>\n",
       "    </tr>\n",
       "  </tbody>\n",
       "</table>\n",
       "</div>"
      ],
      "text/plain": [
       "   Season    usertype   Count\n",
       "0  Autumn    Customer   94003\n",
       "1  Autumn  Subscriber  816402\n",
       "2  Spring    Customer   40842"
      ]
     },
     "execution_count": 130,
     "metadata": {},
     "output_type": "execute_result"
    }
   ],
   "source": [
    "df_seas_users = data.groupby([\"Season\", \"usertype\"]).size().reset_index(name=\"Count\")\n",
    "print(df_seas_users.shape)\n",
    "df_seas_users.head(3)"
   ]
  },
  {
   "cell_type": "code",
   "execution_count": 133,
   "metadata": {},
   "outputs": [
    {
     "data": {
      "text/html": [
       "<div>\n",
       "<style scoped>\n",
       "    .dataframe tbody tr th:only-of-type {\n",
       "        vertical-align: middle;\n",
       "    }\n",
       "\n",
       "    .dataframe tbody tr th {\n",
       "        vertical-align: top;\n",
       "    }\n",
       "\n",
       "    .dataframe thead th {\n",
       "        text-align: right;\n",
       "    }\n",
       "</style>\n",
       "<table border=\"1\" class=\"dataframe\">\n",
       "  <thead>\n",
       "    <tr style=\"text-align: right;\">\n",
       "      <th></th>\n",
       "      <th>sum_sq</th>\n",
       "      <th>df</th>\n",
       "      <th>F</th>\n",
       "      <th>PR(&gt;F)</th>\n",
       "    </tr>\n",
       "  </thead>\n",
       "  <tbody>\n",
       "    <tr>\n",
       "      <th>usertype</th>\n",
       "      <td>8.258927e+11</td>\n",
       "      <td>1.0</td>\n",
       "      <td>14.156555</td>\n",
       "      <td>0.009371</td>\n",
       "    </tr>\n",
       "    <tr>\n",
       "      <th>Residual</th>\n",
       "      <td>3.500397e+11</td>\n",
       "      <td>6.0</td>\n",
       "      <td>NaN</td>\n",
       "      <td>NaN</td>\n",
       "    </tr>\n",
       "  </tbody>\n",
       "</table>\n",
       "</div>"
      ],
      "text/plain": [
       "                sum_sq   df          F    PR(>F)\n",
       "usertype  8.258927e+11  1.0  14.156555  0.009371\n",
       "Residual  3.500397e+11  6.0        NaN       NaN"
      ]
     },
     "execution_count": 133,
     "metadata": {},
     "output_type": "execute_result"
    }
   ],
   "source": [
    "model = ols('Count ~ usertype', data=df_seas_users).fit()\n",
    "aov_res = sm.stats.anova_lm(model, typ=2)\n",
    "aov_res"
   ]
  },
  {
   "cell_type": "markdown",
   "metadata": {},
   "source": [
    "### b. T-test"
   ]
  },
  {
   "cell_type": "code",
   "execution_count": 134,
   "metadata": {},
   "outputs": [
    {
     "name": "stdout",
     "output_type": "stream",
     "text": [
      "t-value: 3.762519717702639\n",
      "p-value: 0.009370724607398328\n"
     ]
    }
   ],
   "source": [
    "subscribers = df_seas_users[df_users['usertype'] == 'Subscriber']\n",
    "customers = df_seas_users[df_users['usertype'] == 'Customer']\n",
    "t, p = stats.ttest_ind(subscribers['Count'], customers['Count'])\n",
    "print(f't-value: {t}')\n",
    "print(f'p-value: {p}')"
   ]
  },
  {
   "cell_type": "markdown",
   "metadata": {},
   "source": [
    "## 4. Finding if male and female rent equally and if it varies through different seasons"
   ]
  },
  {
   "cell_type": "markdown",
   "metadata": {},
   "source": [
    "### a. Anova"
   ]
  },
  {
   "cell_type": "code",
   "execution_count": 135,
   "metadata": {},
   "outputs": [
    {
     "name": "stdout",
     "output_type": "stream",
     "text": [
      "(8, 3)\n"
     ]
    },
    {
     "data": {
      "text/html": [
       "<div>\n",
       "<style scoped>\n",
       "    .dataframe tbody tr th:only-of-type {\n",
       "        vertical-align: middle;\n",
       "    }\n",
       "\n",
       "    .dataframe tbody tr th {\n",
       "        vertical-align: top;\n",
       "    }\n",
       "\n",
       "    .dataframe thead th {\n",
       "        text-align: right;\n",
       "    }\n",
       "</style>\n",
       "<table border=\"1\" class=\"dataframe\">\n",
       "  <thead>\n",
       "    <tr style=\"text-align: right;\">\n",
       "      <th></th>\n",
       "      <th>Season</th>\n",
       "      <th>gender</th>\n",
       "      <th>Count</th>\n",
       "    </tr>\n",
       "  </thead>\n",
       "  <tbody>\n",
       "    <tr>\n",
       "      <th>0</th>\n",
       "      <td>Autumn</td>\n",
       "      <td>Female</td>\n",
       "      <td>237585</td>\n",
       "    </tr>\n",
       "    <tr>\n",
       "      <th>1</th>\n",
       "      <td>Autumn</td>\n",
       "      <td>Male</td>\n",
       "      <td>672820</td>\n",
       "    </tr>\n",
       "    <tr>\n",
       "      <th>2</th>\n",
       "      <td>Spring</td>\n",
       "      <td>Female</td>\n",
       "      <td>166047</td>\n",
       "    </tr>\n",
       "  </tbody>\n",
       "</table>\n",
       "</div>"
      ],
      "text/plain": [
       "   Season  gender   Count\n",
       "0  Autumn  Female  237585\n",
       "1  Autumn    Male  672820\n",
       "2  Spring  Female  166047"
      ]
     },
     "execution_count": 135,
     "metadata": {},
     "output_type": "execute_result"
    }
   ],
   "source": [
    "df_seas_gend = data.groupby([\"Season\", \"gender\"]).size().reset_index(name=\"Count\")\n",
    "print(df_seas_gend.shape)\n",
    "df_seas_gend.head(3)"
   ]
  },
  {
   "cell_type": "code",
   "execution_count": 137,
   "metadata": {},
   "outputs": [
    {
     "data": {
      "text/html": [
       "<div>\n",
       "<style scoped>\n",
       "    .dataframe tbody tr th:only-of-type {\n",
       "        vertical-align: middle;\n",
       "    }\n",
       "\n",
       "    .dataframe tbody tr th {\n",
       "        vertical-align: top;\n",
       "    }\n",
       "\n",
       "    .dataframe thead th {\n",
       "        text-align: right;\n",
       "    }\n",
       "</style>\n",
       "<table border=\"1\" class=\"dataframe\">\n",
       "  <thead>\n",
       "    <tr style=\"text-align: right;\">\n",
       "      <th></th>\n",
       "      <th>sum_sq</th>\n",
       "      <th>df</th>\n",
       "      <th>F</th>\n",
       "      <th>PR(&gt;F)</th>\n",
       "    </tr>\n",
       "  </thead>\n",
       "  <tbody>\n",
       "    <tr>\n",
       "      <th>gender</th>\n",
       "      <td>2.975452e+11</td>\n",
       "      <td>1.0</td>\n",
       "      <td>6.230784</td>\n",
       "      <td>0.046771</td>\n",
       "    </tr>\n",
       "    <tr>\n",
       "      <th>Residual</th>\n",
       "      <td>2.865243e+11</td>\n",
       "      <td>6.0</td>\n",
       "      <td>NaN</td>\n",
       "      <td>NaN</td>\n",
       "    </tr>\n",
       "  </tbody>\n",
       "</table>\n",
       "</div>"
      ],
      "text/plain": [
       "                sum_sq   df         F    PR(>F)\n",
       "gender    2.975452e+11  1.0  6.230784  0.046771\n",
       "Residual  2.865243e+11  6.0       NaN       NaN"
      ]
     },
     "execution_count": 137,
     "metadata": {},
     "output_type": "execute_result"
    }
   ],
   "source": [
    "model = ols('Count ~ gender', data=df_seas_gend).fit()\n",
    "aov_res = sm.stats.anova_lm(model, typ=2)\n",
    "aov_res"
   ]
  },
  {
   "cell_type": "markdown",
   "metadata": {},
   "source": [
    "### b. T-test"
   ]
  },
  {
   "cell_type": "code",
   "execution_count": 153,
   "metadata": {},
   "outputs": [
    {
     "name": "stdout",
     "output_type": "stream",
     "text": [
      "t-value: 2.4961538927276186\n",
      "p-value: 0.046771001584474746\n"
     ]
    }
   ],
   "source": [
    "male = df_seas_gend[df_gend['gender'] == 'Male']\n",
    "female = df_seas_gend[df_gend['gender'] == 'Female']\n",
    "t, p = stats.ttest_ind(male['Count'], female['Count'])\n",
    "print(f't-value: {t}')\n",
    "print(f'p-value: {p}')"
   ]
  },
  {
   "cell_type": "code",
   "execution_count": null,
   "metadata": {},
   "outputs": [],
   "source": []
  },
  {
   "cell_type": "code",
   "execution_count": null,
   "metadata": {},
   "outputs": [],
   "source": []
  },
  {
   "cell_type": "code",
   "execution_count": null,
   "metadata": {},
   "outputs": [],
   "source": []
  },
  {
   "cell_type": "code",
   "execution_count": 37,
   "metadata": {},
   "outputs": [
    {
     "data": {
      "image/png": "[encoded data removed]",
      "text/plain": [
       "<Figure size 432x288 with 1 Axes>"
      ]
     },
     "metadata": {
      "needs_background": "light"
     },
     "output_type": "display_data"
    }
   ],
   "source": [
    "df = pd.DataFrame(data[['birthyear','gender']])\n",
    "\n",
    "sns.boxplot(x=\"gender\", y=\"birthyear\", data=df)\n",
    "plt.show()"
   ]
  },
  {
   "cell_type": "code",
   "execution_count": 39,
   "metadata": {},
   "outputs": [
    {
     "data": {
      "image/png": "[encoded data removed]",
      "text/plain": [
       "<Figure size 432x288 with 1 Axes>"
      ]
     },
     "metadata": {
      "needs_background": "light"
     },
     "output_type": "display_data"
    }
   ],
   "source": [
    "df = pd.DataFrame(data[['age','gender']])\n",
    "\n",
    "sns.boxplot(x=\"gender\", y=\"age\", data=df)\n",
    "plt.show()"
   ]
  },
  {
   "cell_type": "code",
   "execution_count": null,
   "metadata": {},
   "outputs": [],
   "source": []
  }
 ],
 "metadata": {
  "kernelspec": {
   "display_name": "Python 3",
   "language": "python",
   "name": "python3"
  },
  "language_info": {
   "codemirror_mode": {
    "name": "ipython",
    "version": 3
   },
   "file_extension": ".py",
   "mimetype": "text/x-python",
   "name": "python",
   "nbconvert_exporter": "python",
   "pygments_lexer": "ipython3",
   "version": "3.7.6"
  }
 },
 "nbformat": 4,
 "nbformat_minor": 4
}
